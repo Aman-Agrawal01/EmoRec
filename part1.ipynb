{
 "cells": [
  {
   "cell_type": "code",
   "execution_count": 52,
   "metadata": {
    "ExecuteTime": {
     "end_time": "2020-05-24T18:50:11.672450Z",
     "start_time": "2020-05-24T18:50:11.666468Z"
    }
   },
   "outputs": [],
   "source": [
    "import os\n",
    "import shutil\n",
    "import random #for random distribution of data\n",
    "from shutil import copyfile\n",
    "from os import getcwd  # getcwd returns current working directory\n",
    "import pandas as pd #for data manipulation\n",
    "import numpy as np #for operation\n",
    "import tensorflow as tf\n",
    "from tensorflow.keras.preprocessing import image # for image processing"
   ]
  },
  {
   "cell_type": "code",
   "execution_count": 53,
   "metadata": {
    "ExecuteTime": {
     "end_time": "2020-05-24T18:50:11.953226Z",
     "start_time": "2020-05-24T18:50:11.948239Z"
    }
   },
   "outputs": [
    {
     "name": "stdout",
     "output_type": "stream",
     "text": [
      "C:\\Users\\SHASHI KUMAR\\jupyter_folders\\project/datasets/CK+48/\n"
     ]
    }
   ],
   "source": [
    "print( f\"{getcwd()}/datasets/CK+48/\")"
   ]
  },
  {
   "cell_type": "markdown",
   "metadata": {},
   "source": [
    "# Load Data\n",
    "Dataset is downloaded from Kaggle as it's link is given in Lit Review 2.0. \n",
    "After extracting : datasets(a directory) contains CK+48 (another directory) which contains folders of different classes \n"
   ]
  },
  {
   "cell_type": "code",
   "execution_count": 54,
   "metadata": {
    "ExecuteTime": {
     "end_time": "2020-05-24T18:50:13.949244Z",
     "start_time": "2020-05-24T18:50:13.941273Z"
    }
   },
   "outputs": [
    {
     "name": "stdout",
     "output_type": "stream",
     "text": [
      "anger:  135\n",
      "contempt:  54\n",
      "disgust:  177\n",
      "fear:  75\n",
      "happy:  207\n",
      "sadness:  84\n",
      "surprise:  249\n"
     ]
    }
   ],
   "source": [
    "## load data\n",
    "\n",
    "path = f\"{getcwd()}/datasets/CK+48/\" # access the path\n",
    "shutil.rmtree(f\"{getcwd()}/datasets/\" +'/tmp', ignore_errors= True)  # remove that directory tree if tmp named directory exists\n",
    "class_name = ['anger', 'contempt','disgust','fear','happy','sadness','surprise']\n",
    "for name in class_name:\n",
    "    print(name +': ',len(os.listdir(path + name))) # \n",
    " \n"
   ]
  },
  {
   "cell_type": "markdown",
   "metadata": {},
   "source": [
    "In below cell, tmp directory is created.Then inside tmp directory two training and testing directory created. "
   ]
  },
  {
   "cell_type": "code",
   "execution_count": 55,
   "metadata": {
    "ExecuteTime": {
     "end_time": "2020-05-24T18:50:15.189599Z",
     "start_time": "2020-05-24T18:50:15.168487Z"
    }
   },
   "outputs": [],
   "source": [
    "path1 = f\"{getcwd()}/datasets/\"\n",
    "class_name = ['anger', 'contempt','disgust','fear','happy','sadness','surprise']\n",
    "try:\n",
    "    os.mkdir(path1 + '/tmp/') \n",
    "    os.mkdir(path1 + '/tmp/training/')\n",
    "    os.mkdir(path1 + '/tmp/testing/')\n",
    "    for name in class_name:\n",
    "        os.mkdir(path1 + '/tmp/training/' + name)\n",
    "        os.mkdir(path1 + '/tmp/testing/' + name)\n",
    "    \n",
    "except OSError:\n",
    "    print('File already occured or some error')\n",
    "#    "
   ]
  },
  {
   "cell_type": "code",
   "execution_count": 59,
   "metadata": {
    "ExecuteTime": {
     "end_time": "2020-05-24T18:54:37.190046Z",
     "start_time": "2020-05-24T18:54:37.183019Z"
    }
   },
   "outputs": [],
   "source": [
    "# split function is used to split data in two parts training and testing.\n",
    "\n",
    "def split_data(SOURCE, TRAINING, TESTING, SPLIT_SIZE):\n",
    "    l = os.listdir(SOURCE)\n",
    "    x = int(len(l)*SPLIT_SIZE)\n",
    "    random.sample(l,len(l))\n",
    "    for i,fn in enumerate(l):\n",
    "        if i<x:\n",
    "            path = os.path.join(SOURCE ,fn)\n",
    "            path_t = os.path.join(TRAINING ,fn)\n",
    "            if os.path.getsize(path) > 0:\n",
    "                copyfile(path, path_t)\n",
    "        else:\n",
    "            path = os.path.join(SOURCE ,fn)\n",
    "            path_t = os.path.join(TESTING ,fn)\n",
    "            if os.path.getsize(path) > 0:\n",
    "                copyfile(path, path_t)"
   ]
  },
  {
   "cell_type": "code",
   "execution_count": 57,
   "metadata": {
    "ExecuteTime": {
     "end_time": "2020-05-24T18:50:17.122574Z",
     "start_time": "2020-05-24T18:50:16.367003Z"
    }
   },
   "outputs": [],
   "source": [
    "SOURCE_DIR = f\"{getcwd()}/datasets/CK+48/\"\n",
    "TRAINING_DIR = f\"{getcwd()}/datasets/tmp/training/\"\n",
    "TESTING_DIR = f\"{getcwd()}/datasets/tmp/testing/\"\n",
    "split_size = .9\n",
    "for name in class_name:\n",
    "    split_data(SOURCE_DIR + name , TRAINING_DIR + name,TESTING_DIR + name,split_size)\n",
    "    \n"
   ]
  },
  {
   "cell_type": "code",
   "execution_count": 67,
   "metadata": {
    "ExecuteTime": {
     "end_time": "2020-05-24T18:57:37.543650Z",
     "start_time": "2020-05-24T18:57:37.529657Z"
    }
   },
   "outputs": [
    {
     "name": "stdout",
     "output_type": "stream",
     "text": [
      "After splitting Between Training and Testing and split size is  0.9\n",
      "Training part contains\n",
      "anger: 121\n",
      "contempt: 48\n",
      "disgust: 159\n",
      "fear: 67\n",
      "happy: 186\n",
      "sadness: 75\n",
      "surprise: 224\n",
      "Testing part contains\n",
      "anger: 14\n",
      "contempt: 6\n",
      "disgust: 18\n",
      "fear: 8\n",
      "happy: 21\n",
      "sadness: 9\n",
      "surprise: 25\n"
     ]
    }
   ],
   "source": [
    "print('After splitting Between Training and Testing and split size is ', split_size )\n",
    "print('Training part contains')\n",
    "for name in class_name:\n",
    "    print(name + ':',len(os.listdir(TRAINING_DIR + name)))\n",
    "print('Testing part contains')\n",
    "for name in class_name:\n",
    "    print(name + ':',len(os.listdir(TESTING_DIR + name)))\n"
   ]
  },
  {
   "cell_type": "code",
   "execution_count": null,
   "metadata": {},
   "outputs": [],
   "source": []
  },
  {
   "cell_type": "markdown",
   "metadata": {},
   "source": [
    "# Preprocessing\n",
    "\n"
   ]
  },
  {
   "cell_type": "code",
   "execution_count": null,
   "metadata": {},
   "outputs": [],
   "source": []
  },
  {
   "cell_type": "code",
   "execution_count": null,
   "metadata": {
    "ExecuteTime": {
     "end_time": "2020-05-24T14:38:05.734244Z",
     "start_time": "2020-05-24T14:38:05.718531Z"
    }
   },
   "outputs": [],
   "source": [
    "##basic Cnn model \n",
    "\n",
    "def CNN_model(num_classes,input_shape):\n",
    "    \n",
    "    model = tf.keras.models.Sequential([\n",
    "        tf.keras.layers.Conv2D(32, (5,5), activation = 'relu', name = 'conv2d_1', input_shape = input_shape),\n",
    "        tf.keras.layers.MaxPooling2D((2,2), name = 'max_pool_1'),\n",
    "        \n",
    "        tf.keras.layers.Conv2D(64,(5,5), activation = 'relu', name = 'conv2d_2'),\n",
    "        tf.keras.layers.MaxPooling2D((2,2), name = 'max_pool_2'),\n",
    "        \n",
    "        tf.keras.layers.Flatten(name = 'flatten_1'),\n",
    "        tf.keras.layers.Dense(num_classes,activation = 'softmax')\n",
    "    ])\n",
    "    \n",
    "    \n",
    "    return model\n",
    "    \n",
    "    \n",
    "    "
   ]
  },
  {
   "cell_type": "code",
   "execution_count": null,
   "metadata": {
    "ExecuteTime": {
     "end_time": "2020-05-24T14:39:09.346557Z",
     "start_time": "2020-05-24T14:39:08.860379Z"
    }
   },
   "outputs": [],
   "source": [
    "## compile model\n",
    "opt = tf.keras.optimizers.Adam()\n",
    "model = CNN_model(7, (128,128,3))\n",
    "model.compile(optimizer = opt, loss = 'categorical_crossentropy',metrics = ['accuracy'])"
   ]
  },
  {
   "cell_type": "code",
   "execution_count": null,
   "metadata": {},
   "outputs": [],
   "source": []
  }
 ],
 "metadata": {
  "hide_input": false,
  "kernelspec": {
   "display_name": "Python 3",
   "language": "python",
   "name": "python3"
  },
  "language_info": {
   "codemirror_mode": {
    "name": "ipython",
    "version": 3
   },
   "file_extension": ".py",
   "mimetype": "text/x-python",
   "name": "python",
   "nbconvert_exporter": "python",
   "pygments_lexer": "ipython3",
   "version": "3.7.6"
  },
  "toc": {
   "base_numbering": 1,
   "nav_menu": {},
   "number_sections": true,
   "sideBar": true,
   "skip_h1_title": false,
   "title_cell": "Table of Contents",
   "title_sidebar": "Contents",
   "toc_cell": false,
   "toc_position": {},
   "toc_section_display": true,
   "toc_window_display": false
  },
  "varInspector": {
   "cols": {
    "lenName": 16,
    "lenType": 16,
    "lenVar": 40
   },
   "kernels_config": {
    "python": {
     "delete_cmd_postfix": "",
     "delete_cmd_prefix": "del ",
     "library": "var_list.py",
     "varRefreshCmd": "print(var_dic_list())"
    },
    "r": {
     "delete_cmd_postfix": ") ",
     "delete_cmd_prefix": "rm(",
     "library": "var_list.r",
     "varRefreshCmd": "cat(var_dic_list()) "
    }
   },
   "types_to_exclude": [
    "module",
    "function",
    "builtin_function_or_method",
    "instance",
    "_Feature"
   ],
   "window_display": false
  }
 },
 "nbformat": 4,
 "nbformat_minor": 4
}
