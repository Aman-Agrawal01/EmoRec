{
 "cells": [
  {
   "cell_type": "code",
   "execution_count": 19,
   "metadata": {
    "ExecuteTime": {
     "end_time": "2020-05-25T05:25:35.774806Z",
     "start_time": "2020-05-25T05:25:33.027643Z"
    }
   },
   "outputs": [],
   "source": [
    "import os\n",
    "import shutil\n",
    "import random #for random distribution of data\n",
    "from shutil import copyfile\n",
    "from os import getcwd  # getcwd returns current working directory\n",
    "import pandas as pd #for data manipulation\n",
    "import numpy as np #for operation\n",
    "import tensorflow as tf\n",
    "from tensorflow.keras.preprocessing import image # for image processing\n",
    "import matplotlib.pyplot as plt"
   ]
  },
  {
   "cell_type": "code",
   "execution_count": 3,
   "metadata": {
    "ExecuteTime": {
     "end_time": "2020-05-25T05:17:24.083108Z",
     "start_time": "2020-05-25T05:17:24.078118Z"
    }
   },
   "outputs": [
    {
     "name": "stdout",
     "output_type": "stream",
     "text": [
      "C:\\Users\\SHASHI KUMAR\\jupyter_folders\\project/datasets/CK+48/\n"
     ]
    }
   ],
   "source": [
    "print( f\"{getcwd()}/datasets/CK+48/\")"
   ]
  },
  {
   "cell_type": "markdown",
   "metadata": {},
   "source": [
    "# Load Data\n",
    "Dataset is downloaded from Kaggle as it's link is given in Lit Review 2.0. \n",
    "After extracting : datasets(a directory) contains CK+48 (another directory) which contains folders of different classes \n"
   ]
  },
  {
   "cell_type": "code",
   "execution_count": 4,
   "metadata": {
    "ExecuteTime": {
     "end_time": "2020-05-25T05:17:26.194314Z",
     "start_time": "2020-05-25T05:17:25.696250Z"
    }
   },
   "outputs": [
    {
     "name": "stdout",
     "output_type": "stream",
     "text": [
      "anger:  135\n",
      "contempt:  54\n",
      "disgust:  177\n",
      "fear:  75\n",
      "happy:  207\n",
      "sadness:  84\n",
      "surprise:  249\n"
     ]
    }
   ],
   "source": [
    "## load data\n",
    "\n",
    "path = f\"{getcwd()}/datasets/CK+48/\" # access the path\n",
    "shutil.rmtree(f\"{getcwd()}/datasets/\" +'/tmp', ignore_errors= True)  # remove that directory tree if tmp named directory exists\n",
    "class_name = ['anger', 'contempt','disgust','fear','happy','sadness','surprise']\n",
    "for name in class_name:\n",
    "    print(name +': ',len(os.listdir(path + name))) # \n",
    " \n"
   ]
  },
  {
   "cell_type": "markdown",
   "metadata": {},
   "source": [
    "In below cell, tmp directory is created.Then inside tmp directory two training and testing directory created. "
   ]
  },
  {
   "cell_type": "code",
   "execution_count": 5,
   "metadata": {
    "ExecuteTime": {
     "end_time": "2020-05-25T05:17:27.334891Z",
     "start_time": "2020-05-25T05:17:27.323894Z"
    }
   },
   "outputs": [],
   "source": [
    "path1 = f\"{getcwd()}/datasets/\"\n",
    "class_name = ['anger', 'contempt','disgust','fear','happy','sadness','surprise']\n",
    "try:\n",
    "    os.mkdir(path1 + '/tmp/') \n",
    "    os.mkdir(path1 + '/tmp/training/')\n",
    "    os.mkdir(path1 + '/tmp/testing/')\n",
    "    for name in class_name:\n",
    "        os.mkdir(path1 + '/tmp/training/' + name)\n",
    "        os.mkdir(path1 + '/tmp/testing/' + name)\n",
    "    \n",
    "except OSError:\n",
    "    print('File already occured or some error')\n",
    "#    "
   ]
  },
  {
   "cell_type": "code",
   "execution_count": 6,
   "metadata": {
    "ExecuteTime": {
     "end_time": "2020-05-25T05:17:28.268584Z",
     "start_time": "2020-05-25T05:17:28.259611Z"
    }
   },
   "outputs": [],
   "source": [
    "# split function is used to split data in two parts training and testing.\n",
    "\n",
    "def split_data(SOURCE, TRAINING, TESTING, SPLIT_SIZE):\n",
    "    l = os.listdir(SOURCE)\n",
    "    x = int(len(l)*SPLIT_SIZE)\n",
    "    random.sample(l,len(l))\n",
    "    for i,fn in enumerate(l):\n",
    "        if i<x:\n",
    "            path = os.path.join(SOURCE ,fn)\n",
    "            path_t = os.path.join(TRAINING ,fn)\n",
    "            if os.path.getsize(path) > 0:\n",
    "                copyfile(path, path_t)\n",
    "        else:\n",
    "            path = os.path.join(SOURCE ,fn)\n",
    "            path_t = os.path.join(TESTING ,fn)\n",
    "            if os.path.getsize(path) > 0:\n",
    "                copyfile(path, path_t)"
   ]
  },
  {
   "cell_type": "code",
   "execution_count": 7,
   "metadata": {
    "ExecuteTime": {
     "end_time": "2020-05-25T05:17:30.817579Z",
     "start_time": "2020-05-25T05:17:29.421923Z"
    }
   },
   "outputs": [],
   "source": [
    "SOURCE_DIR = f\"{getcwd()}/datasets/CK+48/\"\n",
    "TRAINING_DIR = f\"{getcwd()}/datasets/tmp/training/\"\n",
    "TESTING_DIR = f\"{getcwd()}/datasets/tmp/testing/\"\n",
    "split_size = .9\n",
    "for name in class_name:\n",
    "    split_data(SOURCE_DIR + name , TRAINING_DIR + name,TESTING_DIR + name,split_size)\n",
    "    \n"
   ]
  },
  {
   "cell_type": "code",
   "execution_count": 9,
   "metadata": {
    "ExecuteTime": {
     "end_time": "2020-05-25T05:17:45.549018Z",
     "start_time": "2020-05-25T05:17:45.535028Z"
    }
   },
   "outputs": [
    {
     "name": "stdout",
     "output_type": "stream",
     "text": [
      "After splitting Between Training and Testing and split size is  0.9\n",
      "Training part contains\n",
      "anger: 121\n",
      "contempt: 48\n",
      "disgust: 159\n",
      "fear: 67\n",
      "happy: 186\n",
      "sadness: 75\n",
      "surprise: 224\n",
      "Testing part contains\n",
      "anger: 14\n",
      "contempt: 6\n",
      "disgust: 18\n",
      "fear: 8\n",
      "happy: 21\n",
      "sadness: 9\n",
      "surprise: 25\n"
     ]
    }
   ],
   "source": [
    "print('After splitting Between Training and Testing and split size is ', split_size )\n",
    "print('Training part contains')\n",
    "for name in class_name:\n",
    "    print(name + ':',len(os.listdir(TRAINING_DIR + name)))\n",
    "print('Testing part contains')\n",
    "for name in class_name:\n",
    "    print(name + ':',len(os.listdir(TESTING_DIR + name)))\n"
   ]
  },
  {
   "cell_type": "code",
   "execution_count": null,
   "metadata": {},
   "outputs": [],
   "source": []
  },
  {
   "cell_type": "markdown",
   "metadata": {},
   "source": [
    "# Preprocessing\n",
    "\n"
   ]
  },
  {
   "cell_type": "code",
   "execution_count": null,
   "metadata": {},
   "outputs": [],
   "source": []
  },
  {
   "cell_type": "code",
   "execution_count": 43,
   "metadata": {
    "ExecuteTime": {
     "end_time": "2020-05-25T09:33:43.504229Z",
     "start_time": "2020-05-25T09:33:43.479995Z"
    }
   },
   "outputs": [],
   "source": [
    "##basic Cnn model \n",
    "\n",
    "def CNN_model(num_classes,input_shape):\n",
    "    \n",
    "    model = tf.keras.models.Sequential([\n",
    "        tf.keras.layers.Conv2D(32, (5,5), activation = 'relu', name = 'conv2d_1', input_shape = input_shape),\n",
    "        tf.keras.layers.MaxPooling2D((2,2), name = 'max_pool_1'),\n",
    "        \n",
    "        tf.keras.layers.Conv2D(64,(5,5), activation = 'relu', name = 'conv2d_2'),\n",
    "        tf.keras.layers.MaxPooling2D((2,2), name = 'max_pool_2'),\n",
    "        \n",
    "        tf.keras.layers.Flatten(name = 'flatten_1'),\n",
    "        tf.keras.layers.Dense(256, activation = 'relu'),\n",
    "        tf.keras.layers.Dropout(0.5),\n",
    "        tf.keras.layers.Dense(num_classes,activation = 'softmax')\n",
    "    ])\n",
    "    \n",
    "    \n",
    "    return model\n",
    "    \n",
    "    \n",
    "    "
   ]
  },
  {
   "cell_type": "code",
   "execution_count": 44,
   "metadata": {
    "ExecuteTime": {
     "end_time": "2020-05-25T09:33:46.464558Z",
     "start_time": "2020-05-25T09:33:45.932269Z"
    }
   },
   "outputs": [],
   "source": [
    "## compile model\n",
    "opt = tf.keras.optimizers.Adam(learning_rate=0.001)\n",
    "model = CNN_model(7, (150,150,1))\n",
    "model.compile(optimizer = opt, loss = 'categorical_crossentropy',metrics = ['accuracy'])"
   ]
  },
  {
   "cell_type": "code",
   "execution_count": 45,
   "metadata": {
    "ExecuteTime": {
     "end_time": "2020-05-25T09:34:03.616282Z",
     "start_time": "2020-05-25T09:34:03.231516Z"
    }
   },
   "outputs": [
    {
     "name": "stdout",
     "output_type": "stream",
     "text": [
      "Found 880 images belonging to 7 classes.\n",
      "Found 101 images belonging to 7 classes.\n"
     ]
    }
   ],
   "source": [
    "# image augmentation\n",
    "class myCallback (tf.keras.callbacks.Callback):\n",
    "    def steps_per_epoch(self, epoch, logs = {}):\n",
    "        if logs['acc'] > 0.95 :\n",
    "            print('\\nAccuracy reached 95%')\n",
    "            self.model.stop_training = True\n",
    "\n",
    "\n",
    "train_datagen = image.ImageDataGenerator(\n",
    "    rescale= 1./255,\n",
    "    rotation_range = 2,\n",
    "    horizontal_flip =True\n",
    ")\n",
    "\n",
    "train_generator = train_datagen.flow_from_directory(TRAINING_DIR, batch_size = 16,color_mode = 'grayscale', class_mode = 'categorical',target_size = (150,150))\n",
    "\n",
    "validation_datagen = image.ImageDataGenerator(rescale = 1./255,\n",
    "                                             rotation_range=2,\n",
    "                                             horizontal_flip = True)\n",
    "validation_generator = validation_datagen.flow_from_directory(TESTING_DIR, batch_size = 16,color_mode = 'grayscale', class_mode = 'categorical',target_size = (150,150))\n",
    "\n",
    "\n",
    "\n"
   ]
  },
  {
   "cell_type": "code",
   "execution_count": 46,
   "metadata": {
    "ExecuteTime": {
     "end_time": "2020-05-25T09:50:54.401689Z",
     "start_time": "2020-05-25T09:34:04.414557Z"
    }
   },
   "outputs": [
    {
     "name": "stdout",
     "output_type": "stream",
     "text": [
      "Epoch 1/20\n",
      "54/55 [============================>.] - ETA: 0s - loss: 1.7416 - acc: 0.4016Epoch 1/20\n",
      "55/55 [==============================] - 50s 910ms/step - loss: 1.7327 - acc: 0.4045 - val_loss: 1.0544 - val_acc: 0.6733\n",
      "Epoch 2/20\n",
      "54/55 [============================>.] - ETA: 0s - loss: 0.7419 - acc: 0.7396Epoch 1/20\n",
      "55/55 [==============================] - 47s 862ms/step - loss: 0.7344 - acc: 0.7420 - val_loss: 0.6445 - val_acc: 0.7723\n",
      "Epoch 3/20\n",
      "54/55 [============================>.] - ETA: 0s - loss: 0.3829 - acc: 0.8634Epoch 1/20\n",
      "55/55 [==============================] - 48s 871ms/step - loss: 0.3822 - acc: 0.8648 - val_loss: 0.9212 - val_acc: 0.7228\n",
      "Epoch 4/20\n",
      "54/55 [============================>.] - ETA: 0s - loss: 0.2804 - acc: 0.8958Epoch 1/20\n",
      "55/55 [==============================] - 51s 920ms/step - loss: 0.2779 - acc: 0.8966 - val_loss: 0.5105 - val_acc: 0.8218\n",
      "Epoch 5/20\n",
      "54/55 [============================>.] - ETA: 0s - loss: 0.1587 - acc: 0.9433Epoch 1/20\n",
      "55/55 [==============================] - 49s 898ms/step - loss: 0.1618 - acc: 0.9420 - val_loss: 0.6679 - val_acc: 0.8119\n",
      "Epoch 6/20\n",
      "54/55 [============================>.] - ETA: 0s - loss: 0.1369 - acc: 0.9549Epoch 1/20\n",
      "55/55 [==============================] - 49s 896ms/step - loss: 0.1350 - acc: 0.9557 - val_loss: 0.6992 - val_acc: 0.7525\n",
      "Epoch 7/20\n",
      "54/55 [============================>.] - ETA: 0s - loss: 0.1230 - acc: 0.9630Epoch 1/20\n",
      "55/55 [==============================] - 50s 918ms/step - loss: 0.1225 - acc: 0.9625 - val_loss: 0.3799 - val_acc: 0.8218\n",
      "Epoch 8/20\n",
      "54/55 [============================>.] - ETA: 0s - loss: 0.1435 - acc: 0.9491Epoch 1/20\n",
      "55/55 [==============================] - 51s 926ms/step - loss: 0.1415 - acc: 0.9500 - val_loss: 0.3773 - val_acc: 0.8812\n",
      "Epoch 9/20\n",
      "54/55 [============================>.] - ETA: 0s - loss: 0.0516 - acc: 0.9826Epoch 1/20\n",
      "55/55 [==============================] - 50s 906ms/step - loss: 0.0508 - acc: 0.9830 - val_loss: 0.4175 - val_acc: 0.8911\n",
      "Epoch 10/20\n",
      "54/55 [============================>.] - ETA: 0s - loss: 0.0611 - acc: 0.9792Epoch 1/20\n",
      "55/55 [==============================] - 53s 957ms/step - loss: 0.0613 - acc: 0.9795 - val_loss: 0.4510 - val_acc: 0.8812\n",
      "Epoch 11/20\n",
      "54/55 [============================>.] - ETA: 0s - loss: 0.1112 - acc: 0.9595Epoch 1/20\n",
      "55/55 [==============================] - 53s 964ms/step - loss: 0.1092 - acc: 0.9602 - val_loss: 0.3816 - val_acc: 0.8812\n",
      "Epoch 12/20\n",
      "54/55 [============================>.] - ETA: 0s - loss: 0.0901 - acc: 0.9711Epoch 1/20\n",
      "55/55 [==============================] - 52s 942ms/step - loss: 0.0899 - acc: 0.9705 - val_loss: 0.7954 - val_acc: 0.8713\n",
      "Epoch 13/20\n",
      "54/55 [============================>.] - ETA: 0s - loss: 0.0621 - acc: 0.9803Epoch 1/20\n",
      "55/55 [==============================] - 51s 927ms/step - loss: 0.0630 - acc: 0.9795 - val_loss: 0.5026 - val_acc: 0.8713\n",
      "Epoch 14/20\n",
      "54/55 [============================>.] - ETA: 0s - loss: 0.0401 - acc: 0.9850Epoch 1/20\n",
      "55/55 [==============================] - 52s 937ms/step - loss: 0.0408 - acc: 0.9841 - val_loss: 0.5523 - val_acc: 0.8218\n",
      "Epoch 15/20\n",
      "54/55 [============================>.] - ETA: 0s - loss: 0.0472 - acc: 0.9873Epoch 1/20\n",
      "55/55 [==============================] - 51s 924ms/step - loss: 0.0486 - acc: 0.9864 - val_loss: 0.5647 - val_acc: 0.8812\n",
      "Epoch 16/20\n",
      "54/55 [============================>.] - ETA: 0s - loss: 0.0297 - acc: 0.9873Epoch 1/20\n",
      "55/55 [==============================] - 50s 907ms/step - loss: 0.0352 - acc: 0.9852 - val_loss: 0.4572 - val_acc: 0.8812\n",
      "Epoch 17/20\n",
      "54/55 [============================>.] - ETA: 0s - loss: 0.0526 - acc: 0.9826Epoch 1/20\n",
      "55/55 [==============================] - 51s 935ms/step - loss: 0.0517 - acc: 0.9830 - val_loss: 0.6876 - val_acc: 0.8119\n",
      "Epoch 18/20\n",
      "54/55 [============================>.] - ETA: 0s - loss: 0.0622 - acc: 0.9792Epoch 1/20\n",
      "55/55 [==============================] - 51s 923ms/step - loss: 0.0611 - acc: 0.9795 - val_loss: 0.7191 - val_acc: 0.8119\n",
      "Epoch 19/20\n",
      "54/55 [============================>.] - ETA: 0s - loss: 0.0386 - acc: 0.9884Epoch 1/20\n",
      "55/55 [==============================] - 51s 931ms/step - loss: 0.0382 - acc: 0.9886 - val_loss: 0.7744 - val_acc: 0.8812\n",
      "Epoch 20/20\n",
      "54/55 [============================>.] - ETA: 0s - loss: 0.0344 - acc: 0.9907Epoch 1/20\n",
      "55/55 [==============================] - 49s 896ms/step - loss: 0.0339 - acc: 0.9909 - val_loss: 0.5637 - val_acc: 0.8515\n"
     ]
    }
   ],
   "source": [
    "mycallback = myCallback()\n",
    "history = model.fit_generator(train_generator, epochs = 20,validation_data=validation_generator, callbacks = [mycallback] )"
   ]
  },
  {
   "cell_type": "code",
   "execution_count": 47,
   "metadata": {
    "ExecuteTime": {
     "end_time": "2020-05-25T09:56:17.600385Z",
     "start_time": "2020-05-25T09:56:16.784919Z"
    }
   },
   "outputs": [
    {
     "name": "stderr",
     "output_type": "stream",
     "text": [
      "No handles with labels found to put in legend.\n",
      "No handles with labels found to put in legend.\n"
     ]
    },
    {
     "data": {
      "text/plain": [
       "Text(0.5, 1.0, 'Training and validation loss')"
      ]
     },
     "execution_count": 47,
     "metadata": {},
     "output_type": "execute_result"
    },
    {
     "data": {
      "image/png": "[encoded data removed]",
      "text/plain": [
       "<Figure size 432x288 with 1 Axes>"
      ]
     },
     "metadata": {
      "needs_background": "light"
     },
     "output_type": "display_data"
    },
    {
     "data": {
      "image/png": "[encoded data removed]",
      "text/plain": [
       "<Figure size 432x288 with 1 Axes>"
      ]
     },
     "metadata": {
      "needs_background": "light"
     },
     "output_type": "display_data"
    }
   ],
   "source": [
    "%matplotlib inline\n",
    "\n",
    "acc=history.history['acc']\n",
    "val_acc=history.history['val_acc']\n",
    "loss=history.history['loss']\n",
    "val_loss=history.history['val_loss']\n",
    "\n",
    "epochs=range(len(acc)) # Get number of epochs\n",
    "\n",
    "plt.plot(epochs, acc, 'r', \"Training Accuracy\")\n",
    "plt.plot(epochs, val_acc, 'b', \"Validation Accuracy\")\n",
    "plt.title('Training and validation accuracy')\n",
    "plt.legend()\n",
    "plt.figure()\n",
    "\n",
    "plt.plot(epochs, loss, 'r', \"Training Loss\")\n",
    "plt.plot(epochs, val_loss, 'b', \"Validation Loss\")\n",
    "plt.legend()\n",
    "\n",
    "plt.title('Training and validation loss')"
   ]
  },
  {
   "cell_type": "code",
   "execution_count": null,
   "metadata": {},
   "outputs": [],
   "source": []
  }
 ],
 "metadata": {
  "hide_input": false,
  "kernelspec": {
   "display_name": "Python 3",
   "language": "python",
   "name": "python3"
  },
  "language_info": {
   "codemirror_mode": {
    "name": "ipython",
    "version": 3
   },
   "file_extension": ".py",
   "mimetype": "text/x-python",
   "name": "python",
   "nbconvert_exporter": "python",
   "pygments_lexer": "ipython3",
   "version": "3.7.6"
  },
  "toc": {
   "base_numbering": 1,
   "nav_menu": {},
   "number_sections": true,
   "sideBar": true,
   "skip_h1_title": false,
   "title_cell": "Table of Contents",
   "title_sidebar": "Contents",
   "toc_cell": false,
   "toc_position": {},
   "toc_section_display": true,
   "toc_window_display": false
  },
  "varInspector": {
   "cols": {
    "lenName": 16,
    "lenType": 16,
    "lenVar": 40
   },
   "kernels_config": {
    "python": {
     "delete_cmd_postfix": "",
     "delete_cmd_prefix": "del ",
     "library": "var_list.py",
     "varRefreshCmd": "print(var_dic_list())"
    },
    "r": {
     "delete_cmd_postfix": ") ",
     "delete_cmd_prefix": "rm(",
     "library": "var_list.r",
     "varRefreshCmd": "cat(var_dic_list()) "
    }
   },
   "types_to_exclude": [
    "module",
    "function",
    "builtin_function_or_method",
    "instance",
    "_Feature"
   ],
   "window_display": false
  }
 },
 "nbformat": 4,
 "nbformat_minor": 4
}
